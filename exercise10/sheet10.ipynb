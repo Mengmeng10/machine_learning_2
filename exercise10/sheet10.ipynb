{
 "cells": [
  {
   "cell_type": "markdown",
   "metadata": {},
   "source": [
    "# Structured Output Learning\n",
    "\n",
    "In this exercise, we consider a data completion task to be solved with structured output learning. The dataset is based on the dataset of the previous programming sheet on splice sites classification. We would like to be able to reconstruct a nucleotide sequence when one of the nucleotides is missing. One such incomplete sequence of nucleotides is shown in the image below\n",
    "\n",
    "![](genesequence.png)\n",
    "\n",
    "where the question mark indicates the missing nucleotide. We would like to make use of the degree kernel that was used in the previous programming sheet. It was shown to represent genes data efficiently near the splice sites. For our completion task, we adopt a structured output learning approach, where the candidate value for replacing the missing nucleotide is also part of the kernel feature map. Interestingly, with this approach, the kernel can still apply to the same type of input data (i.e. continuous gene sequences) as in the standard splice classification setting.\n",
    "\n",
    "The structured output problem is defined as solving the soft-margin SVM optimization problem:\n",
    "$$\n",
    "\\min_{w,b} \\|w\\|^2 + C {\\textstyle \\sum_{i=1}^N} \\xi_i\n",
    "$$\n",
    "where for all inputs pairs $(x_i,y_i)_{i=1}^N$ representing the genes sequences and the true value of the missing nucleotide, the following constraints hold:\n",
    "\\begin{align*}\n",
    "w^\\top \\phi(x_i,y_i) + b &\\geq 1 - \\xi_i \\\\\n",
    "\\forall z_i \\in \\{\\mathrm{A,T,C,G}\\} \\setminus y_i:~w^\\top \\phi(x_i,z_i) + b &\\leq - 1 + \\xi_i\\\\\n",
    "\\xi_i &\\geq 0\n",
    "\\end{align*}\n",
    "Once the SVM is optimized, a missing nucleotide $y$ for sequence $x$ can be predicted as:\n",
    "$$\n",
    "y(x) = \\mathrm{arg}\\!\\!\\!\\!\\!\\!\\max_{z \\in \\{\\mathrm{A,T,C,G}\\}} w^\\top \\phi(x,z).\n",
    "$$\n",
    "The feature map $\\phi(x,z)$ is implicitely defined by the degree kernel between gene sequences $r$ and $r'$ given as\n",
    "$$\n",
    "k_d(r,r') = {\\textstyle \\sum_{i=1}^{L-d+1}} 1_{\\{ r[i \\dots i+d] = r'[i \\dots i+d]\\}}\n",
    "$$\n",
    "where $r$ is built as the incomplete genes sequence $x$ with missing nucleotide \"?\" set to $z$, and where $r[i \\dots i+d]$ is a subsequence of $r$ starting at position $i$ and of length $d$."
   ]
  },
  {
   "cell_type": "markdown",
   "metadata": {},
   "source": [
    "## Loading the Data\n",
    "\n",
    "The following code calls a function from the file `utils.py` that loads the data in the IPython notebook. Note that only the 20 nucleotides nearest to the splice site are returned. The code then prints the first four gene sequences from the dataset, where the character \"?\" denotes the missing nucleotide. The label associated to each incomplete genes sequences (i.e. the value of the missing nucleotide \"?\") is shown on the right."
   ]
  },
  {
   "cell_type": "code",
   "execution_count": 1,
   "metadata": {},
   "outputs": [
    {
     "name": "stdout",
     "output_type": "stream",
     "text": [
      "CAACGATCCAT?CATCCACA  ?=C\n",
      "CAGGACGGTCA?GAAGATCC  ?=G\n",
      "AAAAAGATGA?GTGGTCAAC  ?=A\n",
      "TGTCGGTTA?CAATGATTTT  ?=C\n"
     ]
    }
   ],
   "source": [
    "import utils\n",
    "Xtrain,Xtest,Ytrain,Ytest = utils.loaddata()\n",
    "\n",
    "print(\"\".join(Xtrain[0])+\"  ?=\"+Ytrain[0])\n",
    "print(\"\".join(Xtrain[1])+\"  ?=\"+Ytrain[1])\n",
    "print(\"\".join(Xtrain[2])+\"  ?=\"+Ytrain[2])\n",
    "print(\"\".join(Xtrain[3])+\"  ?=\"+Ytrain[3])"
   ]
  },
  {
   "cell_type": "markdown",
   "metadata": {},
   "source": [
    "It can be observed from the output that the missing nucleotide is not always at the same position. This further confirms that the problem cannot be treated directly as a standard multiclass classification problem. Note that in this data, we have artificially removed nucleotides in the training and test set so that we have labels $y$ available for training and evaluation."
   ]
  },
  {
   "cell_type": "markdown",
   "metadata": {},
   "source": [
    "## Generating SVM Data (20 P)\n",
    "\n",
    "In the SVM structured output formulation, the data points $(x_i,y_i)$ denote the true genes sequences and are the SVM positive examples. To be able to train the SVM, we need to generate all possible examples $((x_i,z_i))_{z_i \\in \\{\\mathrm{A,T,C,G}\\}}$.\n",
    "\n",
    "Your first task is to implement a function `builddata(X,Y)` that receives as input the dataset of size `(N x L)` of incomplete gene sequences `X` where `N` is the number of gene sequences and `L` is the sequence length, and where `Y` of size `N` contains the values of missing nucleotides.\n",
    "\n",
    "Your implementation should produce as output an extended dataset of size `(4N x L)`. Also, the function should return a vector of labels `T` of size `4N` that is `+1` for positive SVM examples and `-1` for negative SVM examples. For repeatability, ensure that all modifications of the same gene sequence occur in consecutive order in the outputs `XZ` and `T`."
   ]
  },
  {
   "cell_type": "code",
   "execution_count": 3,
   "metadata": {
    "collapsed": true
   },
   "outputs": [],
   "source": [
    "def builddata(X,Y):\n",
    "    N = X.shape[0]\n",
    "    L = X.shape[1]\n",
    "    \n",
    "    GATC = ['G', 'A', 'T', 'C']\n",
    "    \n",
    "    '''\n",
    "    (X,Y) = (xx?xx, G)\n",
    "    -->\n",
    "    (X,T) =\n",
    "    (xxGxx, +1)\n",
    "    (xxAxx, -1)\n",
    "    (xxTxx, -1)\n",
    "    (xxCxx, -1)\n",
    "    '''\n",
    "    XZ = []\n",
    "    T = []\n",
    "    \n",
    "    for i in range(N):\n",
    "        sequence_with_blank = \"\".join(X[i])\n",
    "        true_nucleotid = Y[i]\n",
    "        \n",
    "        #out of every training sequence, generate all four possible replacements for '?'\n",
    "        for nucleotid in GATC:\n",
    "            sequence = sequence_with_blank.replace('?', nucleotid)\n",
    "            XZ.append(list(sequence))#convert back to char array and append to XZ\n",
    "            if true_nucleotid == nucleotid:#mark the correct one with +1, the wrong ones with -1\n",
    "                T.append(1)\n",
    "            else:\n",
    "                T.append(-1)\n",
    "    \n",
    "    assert(len(XZ)==len(T)==4*len(X)==4*len(Y))\n",
    "    \n",
    "    return XZ,T"
   ]
  },
  {
   "cell_type": "markdown",
   "metadata": {},
   "source": [
    "Your implementation can be tested by running the following code. It applies the function to the training and test sets and prints the first 12 examples in the training set (i.e. all four possible completions of the first three gene sequences)."
   ]
  },
  {
   "cell_type": "code",
   "execution_count": 4,
   "metadata": {},
   "outputs": [
    {
     "name": "stdout",
     "output_type": "stream",
     "text": [
      "CAACGATCCATGCATCCACA -1\n",
      "CAACGATCCATACATCCACA -1\n",
      "CAACGATCCATTCATCCACA -1\n",
      "CAACGATCCATCCATCCACA +1\n",
      "CAGGACGGTCAGGAAGATCC +1\n",
      "CAGGACGGTCAAGAAGATCC -1\n",
      "CAGGACGGTCATGAAGATCC -1\n",
      "CAGGACGGTCACGAAGATCC -1\n",
      "AAAAAGATGAGGTGGTCAAC -1\n",
      "AAAAAGATGAAGTGGTCAAC +1\n",
      "AAAAAGATGATGTGGTCAAC -1\n",
      "AAAAAGATGACGTGGTCAAC -1\n"
     ]
    }
   ],
   "source": [
    "XZtrain,Ttrain = builddata(Xtrain,Ytrain)\n",
    "XZtest,_       = builddata(Xtest ,Ytest )\n",
    "\n",
    "for xztrain,ttrain in zip(XZtrain[:12],Ttrain[:12]):\n",
    "    print(\"\".join(xztrain)+' %+1d'%ttrain)"
   ]
  },
  {
   "cell_type": "markdown",
   "metadata": {},
   "source": [
    "## SVM Optimization and Sequences Completion (30 P)\n",
    "\n",
    "In this section, we would like to create a function that predicts the missing nucleotides in the gene sequences. The function should be structured as follows: First, we build the kernel training and test matrices using the function `utils.getdegreekernels` and using the specified `degree` parameter. Using `scikit-learn` SVM implementation (`sklearn.svm.SVC`) to train the SVM associated to the just computed kernel matrices and the target vector `Ttrain`. Use the default SVM hyperparameter `C=1` for training.\n",
    "\n",
    "After training the SVM, we would like to compute the predictions for the original structured output problem, that is, for each original gene sequence in the training and test set, the choice of missing nucleotide value for which the SVM prediction value is highest. The outputs `Ptrain` and `Ptest` denote such predictions and should be arrays of characters `A,T,C,G` of same size as the vectors of true nucleotides values `Ytrain` and `Ytest`.\n",
    "\n",
    "*(Hint: You should consider that in some cases there might be not exactly one missing nucleotide value that produces a positive SVM classification. In such cases, we would still like to find the unique best nucleotide value based on the value of the discriminant function for this particular data point. A special function of scikit-learn's `SVC` class exists for that purpose.)*"
   ]
  },
  {
   "cell_type": "code",
   "execution_count": 78,
   "metadata": {},
   "outputs": [
    {
     "name": "stdout",
     "output_type": "stream",
     "text": [
      "[['C' 'A' 'A' 'C' 'G' 'A' 'T' 'C' 'C' 'A' 'T' 'G' 'C' 'A' 'T' 'C' 'C' 'A'\n",
      "  'C' 'A']]\n"
     ]
    },
    {
     "ename": "ValueError",
     "evalue": "could not convert string to float: 'C'",
     "output_type": "error",
     "traceback": [
      "\u001b[1;31m---------------------------------------------------------------------------\u001b[0m",
      "\u001b[1;31mValueError\u001b[0m                                Traceback (most recent call last)",
      "\u001b[1;32m<ipython-input-78-f53bb2002fa2>\u001b[0m in \u001b[0;36m<module>\u001b[1;34m()\u001b[0m\n\u001b[0;32m     27\u001b[0m     \u001b[1;32mreturn\u001b[0m \u001b[0mPtrain\u001b[0m\u001b[1;33m,\u001b[0m\u001b[0mPtest\u001b[0m\u001b[1;33m\u001b[0m\u001b[0m\n\u001b[0;32m     28\u001b[0m \u001b[1;33m\u001b[0m\u001b[0m\n\u001b[1;32m---> 29\u001b[1;33m \u001b[0mpredict\u001b[0m\u001b[1;33m(\u001b[0m\u001b[0mXZtrain\u001b[0m\u001b[1;33m,\u001b[0m \u001b[0mXZtest\u001b[0m\u001b[1;33m,\u001b[0m \u001b[0mTtrain\u001b[0m\u001b[1;33m,\u001b[0m \u001b[1;36m2\u001b[0m\u001b[1;33m)\u001b[0m\u001b[1;33m\u001b[0m\u001b[0m\n\u001b[0m",
      "\u001b[1;32m<ipython-input-78-f53bb2002fa2>\u001b[0m in \u001b[0;36mpredict\u001b[1;34m(XZtrain, XZtest, Ttrain, degree)\u001b[0m\n\u001b[0;32m     12\u001b[0m     \u001b[0msample\u001b[0m \u001b[1;33m=\u001b[0m \u001b[0mXZtrain\u001b[0m\u001b[1;33m[\u001b[0m\u001b[1;33m:\u001b[0m\u001b[1;36m1\u001b[0m\u001b[1;33m]\u001b[0m\u001b[1;33m\u001b[0m\u001b[0m\n\u001b[0;32m     13\u001b[0m     \u001b[0mprint\u001b[0m\u001b[1;33m(\u001b[0m\u001b[0msample\u001b[0m\u001b[1;33m)\u001b[0m\u001b[1;33m\u001b[0m\u001b[0m\n\u001b[1;32m---> 14\u001b[1;33m     \u001b[0mmysvm\u001b[0m\u001b[1;33m.\u001b[0m\u001b[0mdecision_function\u001b[0m\u001b[1;33m(\u001b[0m\u001b[0msample\u001b[0m\u001b[1;33m)\u001b[0m\u001b[1;33m\u001b[0m\u001b[0m\n\u001b[0m\u001b[0;32m     15\u001b[0m     \u001b[0mmysvm\u001b[0m\u001b[1;33m.\u001b[0m\u001b[0mpredict\u001b[0m\u001b[1;33m(\u001b[0m\u001b[0msample\u001b[0m\u001b[1;33m)\u001b[0m\u001b[1;33m\u001b[0m\u001b[0m\n\u001b[0;32m     16\u001b[0m \u001b[1;33m\u001b[0m\u001b[0m\n",
      "\u001b[1;32mC:\\Users\\arik\\Anaconda3\\lib\\site-packages\\sklearn\\svm\\base.py\u001b[0m in \u001b[0;36mdecision_function\u001b[1;34m(self, X)\u001b[0m\n\u001b[0;32m    545\u001b[0m             n_classes)\n\u001b[0;32m    546\u001b[0m         \"\"\"\n\u001b[1;32m--> 547\u001b[1;33m         \u001b[0mdec\u001b[0m \u001b[1;33m=\u001b[0m \u001b[0mself\u001b[0m\u001b[1;33m.\u001b[0m\u001b[0m_decision_function\u001b[0m\u001b[1;33m(\u001b[0m\u001b[0mX\u001b[0m\u001b[1;33m)\u001b[0m\u001b[1;33m\u001b[0m\u001b[0m\n\u001b[0m\u001b[0;32m    548\u001b[0m         \u001b[1;32mif\u001b[0m \u001b[0mself\u001b[0m\u001b[1;33m.\u001b[0m\u001b[0mdecision_function_shape\u001b[0m \u001b[1;32mis\u001b[0m \u001b[1;32mNone\u001b[0m \u001b[1;32mand\u001b[0m \u001b[0mlen\u001b[0m\u001b[1;33m(\u001b[0m\u001b[0mself\u001b[0m\u001b[1;33m.\u001b[0m\u001b[0mclasses_\u001b[0m\u001b[1;33m)\u001b[0m \u001b[1;33m>\u001b[0m \u001b[1;36m2\u001b[0m\u001b[1;33m:\u001b[0m\u001b[1;33m\u001b[0m\u001b[0m\n\u001b[0;32m    549\u001b[0m             warnings.warn(\"The decision_function_shape default value will \"\n",
      "\u001b[1;32mC:\\Users\\arik\\Anaconda3\\lib\\site-packages\\sklearn\\svm\\base.py\u001b[0m in \u001b[0;36m_decision_function\u001b[1;34m(self, X)\u001b[0m\n\u001b[0;32m    402\u001b[0m         \u001b[1;31m# NOTE: _validate_for_predict contains check for is_fitted\u001b[0m\u001b[1;33m\u001b[0m\u001b[1;33m\u001b[0m\u001b[0m\n\u001b[0;32m    403\u001b[0m         \u001b[1;31m# hence must be placed before any other attributes are used.\u001b[0m\u001b[1;33m\u001b[0m\u001b[1;33m\u001b[0m\u001b[0m\n\u001b[1;32m--> 404\u001b[1;33m         \u001b[0mX\u001b[0m \u001b[1;33m=\u001b[0m \u001b[0mself\u001b[0m\u001b[1;33m.\u001b[0m\u001b[0m_validate_for_predict\u001b[0m\u001b[1;33m(\u001b[0m\u001b[0mX\u001b[0m\u001b[1;33m)\u001b[0m\u001b[1;33m\u001b[0m\u001b[0m\n\u001b[0m\u001b[0;32m    405\u001b[0m         \u001b[0mX\u001b[0m \u001b[1;33m=\u001b[0m \u001b[0mself\u001b[0m\u001b[1;33m.\u001b[0m\u001b[0m_compute_kernel\u001b[0m\u001b[1;33m(\u001b[0m\u001b[0mX\u001b[0m\u001b[1;33m)\u001b[0m\u001b[1;33m\u001b[0m\u001b[0m\n\u001b[0;32m    406\u001b[0m \u001b[1;33m\u001b[0m\u001b[0m\n",
      "\u001b[1;32mC:\\Users\\arik\\Anaconda3\\lib\\site-packages\\sklearn\\svm\\base.py\u001b[0m in \u001b[0;36m_validate_for_predict\u001b[1;34m(self, X)\u001b[0m\n\u001b[0;32m    457\u001b[0m         \u001b[0mcheck_is_fitted\u001b[0m\u001b[1;33m(\u001b[0m\u001b[0mself\u001b[0m\u001b[1;33m,\u001b[0m \u001b[1;34m'support_'\u001b[0m\u001b[1;33m)\u001b[0m\u001b[1;33m\u001b[0m\u001b[0m\n\u001b[0;32m    458\u001b[0m \u001b[1;33m\u001b[0m\u001b[0m\n\u001b[1;32m--> 459\u001b[1;33m         \u001b[0mX\u001b[0m \u001b[1;33m=\u001b[0m \u001b[0mcheck_array\u001b[0m\u001b[1;33m(\u001b[0m\u001b[0mX\u001b[0m\u001b[1;33m,\u001b[0m \u001b[0maccept_sparse\u001b[0m\u001b[1;33m=\u001b[0m\u001b[1;34m'csr'\u001b[0m\u001b[1;33m,\u001b[0m \u001b[0mdtype\u001b[0m\u001b[1;33m=\u001b[0m\u001b[0mnp\u001b[0m\u001b[1;33m.\u001b[0m\u001b[0mfloat64\u001b[0m\u001b[1;33m,\u001b[0m \u001b[0morder\u001b[0m\u001b[1;33m=\u001b[0m\u001b[1;34m\"C\"\u001b[0m\u001b[1;33m)\u001b[0m\u001b[1;33m\u001b[0m\u001b[0m\n\u001b[0m\u001b[0;32m    460\u001b[0m         \u001b[1;32mif\u001b[0m \u001b[0mself\u001b[0m\u001b[1;33m.\u001b[0m\u001b[0m_sparse\u001b[0m \u001b[1;32mand\u001b[0m \u001b[1;32mnot\u001b[0m \u001b[0msp\u001b[0m\u001b[1;33m.\u001b[0m\u001b[0misspmatrix\u001b[0m\u001b[1;33m(\u001b[0m\u001b[0mX\u001b[0m\u001b[1;33m)\u001b[0m\u001b[1;33m:\u001b[0m\u001b[1;33m\u001b[0m\u001b[0m\n\u001b[0;32m    461\u001b[0m             \u001b[0mX\u001b[0m \u001b[1;33m=\u001b[0m \u001b[0msp\u001b[0m\u001b[1;33m.\u001b[0m\u001b[0mcsr_matrix\u001b[0m\u001b[1;33m(\u001b[0m\u001b[0mX\u001b[0m\u001b[1;33m)\u001b[0m\u001b[1;33m\u001b[0m\u001b[0m\n",
      "\u001b[1;32mC:\\Users\\arik\\Anaconda3\\lib\\site-packages\\sklearn\\utils\\validation.py\u001b[0m in \u001b[0;36mcheck_array\u001b[1;34m(array, accept_sparse, dtype, order, copy, force_all_finite, ensure_2d, allow_nd, ensure_min_samples, ensure_min_features, warn_on_dtype, estimator)\u001b[0m\n\u001b[0;32m    380\u001b[0m                                       force_all_finite)\n\u001b[0;32m    381\u001b[0m     \u001b[1;32melse\u001b[0m\u001b[1;33m:\u001b[0m\u001b[1;33m\u001b[0m\u001b[0m\n\u001b[1;32m--> 382\u001b[1;33m         \u001b[0marray\u001b[0m \u001b[1;33m=\u001b[0m \u001b[0mnp\u001b[0m\u001b[1;33m.\u001b[0m\u001b[0marray\u001b[0m\u001b[1;33m(\u001b[0m\u001b[0marray\u001b[0m\u001b[1;33m,\u001b[0m \u001b[0mdtype\u001b[0m\u001b[1;33m=\u001b[0m\u001b[0mdtype\u001b[0m\u001b[1;33m,\u001b[0m \u001b[0morder\u001b[0m\u001b[1;33m=\u001b[0m\u001b[0morder\u001b[0m\u001b[1;33m,\u001b[0m \u001b[0mcopy\u001b[0m\u001b[1;33m=\u001b[0m\u001b[0mcopy\u001b[0m\u001b[1;33m)\u001b[0m\u001b[1;33m\u001b[0m\u001b[0m\n\u001b[0m\u001b[0;32m    383\u001b[0m \u001b[1;33m\u001b[0m\u001b[0m\n\u001b[0;32m    384\u001b[0m         \u001b[1;32mif\u001b[0m \u001b[0mensure_2d\u001b[0m\u001b[1;33m:\u001b[0m\u001b[1;33m\u001b[0m\u001b[0m\n",
      "\u001b[1;31mValueError\u001b[0m: could not convert string to float: 'C'"
     ]
    }
   ],
   "source": [
    "from sklearn.svm import SVC\n",
    "import numpy as np\n",
    "\n",
    "def predict(XZtrain,XZtest,Ttrain,degree):\n",
    "    XZtrain = np.array(XZtrain[:100])#only first 100 elements for testing purposes\n",
    "    XZtest = np.array(XZtest[:100])\n",
    "    Ttrain = Ttrain[:100]\n",
    "    \n",
    "    Ktrain,Ktest = utils.getdegreekernels(XZtrain,XZtest,degree)\n",
    "    mysvm = SVC(C=1.0, kernel='precomputed').fit(Ktrain, Ttrain)\n",
    "    \n",
    "    sample = XZtrain[:1]\n",
    "    print(sample)\n",
    "    mysvm.decision_function(sample)\n",
    "    mysvm.predict(sample)\n",
    "    \n",
    "    # Kernel is pre-computed. The SVM does not know how to handle new samples consisting of chars.\n",
    "\n",
    "    return Ptrain,Ptest\n",
    "\n",
    "predict(XZtrain, XZtest, Ttrain, 2)"
   ]
  },
  {
   "cell_type": "markdown",
   "metadata": {},
   "source": [
    "The code below tests the prediction function above with different choices of degree parameters for the kernel. Note that running the code can take a while (up to 3 minutes) due to the relatively large size of the kernel matrices. If the computation time becomes problematic, consider a subset of the dataset for development and only use the full version of the dataset once you are ready to produce the final version of your notebook."
   ]
  },
  {
   "cell_type": "code",
   "execution_count": null,
   "metadata": {
    "collapsed": true
   },
   "outputs": [],
   "source": [
    "import solutions\n",
    "\n",
    "for degree in [1,2,3,4,5,6]:\n",
    "    \n",
    "    Ptrain,Ptest = predict(XZtrain,XZtest,Ttrain,degree)\n",
    "\n",
    "    acctr = (Ytrain==Ptrain).mean()\n",
    "    acctt = (Ytest ==Ptest ).mean()\n",
    "    \n",
    "    print('degree: %d  train accuracy: %.3f  test accuracy: %.3f'%(degree,acctr,acctt))"
   ]
  }
 ],
 "metadata": {
  "kernelspec": {
   "display_name": "Python 3",
   "language": "python",
   "name": "python3"
  },
  "language_info": {
   "codemirror_mode": {
    "name": "ipython",
    "version": 3
   },
   "file_extension": ".py",
   "mimetype": "text/x-python",
   "name": "python",
   "nbconvert_exporter": "python",
   "pygments_lexer": "ipython3",
   "version": "3.6.1"
  }
 },
 "nbformat": 4,
 "nbformat_minor": 1
}
