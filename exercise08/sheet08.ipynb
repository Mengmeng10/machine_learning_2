{
 "metadata": {
  "kernelspec": {
   "display_name": "Python 2",
   "language": "python",
   "name": "python2"
  },
  "language_info": {
   "codemirror_mode": {
    "name": "ipython",
    "version": 2
   },
   "file_extension": ".py",
   "mimetype": "text/x-python",
   "name": "python",
   "nbconvert_exporter": "python",
   "pygments_lexer": "ipython2",
   "version": "2.7.6"
  },
  "name": "",
  "signature": "sha256:b093f70d3775b3f4e01d940d07f4374ca9279ea0fedb6db8770822643dcdbaf5"
 },
 "nbformat": 3,
 "nbformat_minor": 0,
 "worksheets": [
  {
   "cells": [
    {
     "cell_type": "markdown",
     "metadata": {},
     "source": [
      "# Programming Hidden Markov Models (60 P)\n",
      "\n",
      "In this exercise, you will experiment with hidden Markov models, in particular, applying them to modeling character sequences, and analyzing the learned solution. As a starting point, you are provided in the file `hmm.py` with a basic implementation of an HMM and of the Baum-Welch training algorithm. The names of variables used in the code and the references to equations are taken from the HMM paper by Rabiner et al. downloable from ISIS. In addition to the variables described in this paper, we use two additional variables: $Z$ for the emission probabilities of observations $O$, and $\\psi$ (i.e. psi) for collecting the statistics of Equation (40c).\n"
     ]
    },
    {
     "cell_type": "markdown",
     "metadata": {},
     "source": [
      "##Question 1: Analysis of a small HMM (30 P)\n",
      "\n",
      "We first look at a toy example of an HMM trained on a binary sequence. The training procedure below consists of 100 iterations of the Baum-Welch procedure. It runs the HMM learning algorithm for some toy binary data and prints the parameters learned by the HMM (i.e. matrices $A$ and $B$).\n",
      "\n",
      "###Question 1a: Qualitative Analysis (15 P)\n",
      "\n",
      "* *Run* the code several times to check that the behavior is consistent.\n",
      "* *Describe* qualitatively the solution $A,B$ learned by the model.\n",
      "* *Explain* how the solution $\\lambda = (A,B)$ relates to the sequence of observations $O$ that has been modeled.\n"
     ]
    },
    {
     "cell_type": "code",
     "collapsed": false,
     "input": [
      "import numpy,hmm\n",
      "\n",
      "O = numpy.array([1,0,1,0,1,1,0,0,1,0,0,0,1,1,1,0,1,0,0,0,1,1,0,1,1,0,0,1,1,\n",
      "                 0,0,0,1,0,0,0,1,1,0,0,1,0,0,1,1,0,0,0,1,0,1,0,1,0,0,0,1,0,\n",
      "                 0,0,1,0,1,0,1,0,0,0,1,1,1,0,1,0,0,0,1,0,0,0,1,0,1,0,1,0,0,\n",
      "                 0,1,1,1,0,1,0,0,0,1,0,0,0,1,0,0,0,1,0,0,0,1,1,0,0,1,0,1,1,\n",
      "                 1,0,0,0,1,1,0,0,1,0,1,1,1,0,0,1,1,0,0,0,1,1,0,0,1,1,0,0,1,\n",
      "                 0,0,0,1,0,0,0,1,0,0,0,1,0,0,0,1,0,1,0,1,0,0,0,1,0,0,0,1,0,\n",
      "                 0,0,1,0,0,0,1,1,0,0,1,1,0,0,1,1,0,0,1,0,0,0,1,1,0,0])\n",
      "\n",
      "hmmtoy = hmm.HMM(4,2)\n",
      "\n",
      "for k in range(100):\n",
      "    hmmtoy.loaddata(O)\n",
      "    hmmtoy.forward()\n",
      "    hmmtoy.backward()\n",
      "    hmmtoy.learn()\n",
      "\n",
      "print('A')\n",
      "print(\"\\n\".join([\" \".join(['%.3f'%a for a in aa]) for aa in hmmtoy.A]))\n",
      "print(' ')\n",
      "print('B')\n",
      "print(\"\\n\".join([\" \".join(['%.3f'%b for b in bb]) for bb in hmmtoy.B]))\n",
      "print(' ')\n",
      "print('Pi')\n",
      "print(\"\\n\".join(['%.3f'%b for b in hmmtoy.Pi]))"
     ],
     "language": "python",
     "metadata": {},
     "outputs": []
    },
    {
     "cell_type": "markdown",
     "metadata": {},
     "source": [
      "###Question 1b: Finding the best number $N$ of hidden states (15 P)\n",
      "\n",
      "For the same sequence of observations as in Question 1a, we would like to determine automatically what is a good number of hidden states $N = \\mathrm{card}(S)$ for the model.\n",
      "\n",
      "* *Split* the sequence of observations into a training and test set (you can assume stationarity).\n",
      "* *Train* the model on the training set for several iteration (e.g. 100 iterations) and for multiple parameter $N$.\n",
      "* *Show* for each choice of parameter $N$ the log-probability $\\log p(O | \\lambda)$ for the test set. (If the results are unstable, perform several trials of the same experiment for each parameter $N$.)\n",
      "* *Explain* in the light of this experiment what is the best parameter $N$."
     ]
    },
    {
     "cell_type": "code",
     "collapsed": false,
     "input": [
      "import solutions\n",
      "solutions.question1b(O,hmm.HMM)"
     ],
     "language": "python",
     "metadata": {},
     "outputs": []
    },
    {
     "cell_type": "markdown",
     "metadata": {},
     "source": [
      "## Question 2: Text modeling and generation (30 P)\n",
      "\n",
      "We would like to train an HMM on character sequences taken from English text. We use the 20 newsgroups dataset that is accessible via scikits-learn http://scikit-learn.org/stable/datasets/twenty_newsgroups.html. (For this, you need to install scikits-learn if not done already.) Documentation is available on the website. The code below allows you to (1) read the dataset, (2) sample HMM-readable sequences from it, and (3) convert them back into string of characters."
     ]
    },
    {
     "cell_type": "code",
     "collapsed": false,
     "input": [
      "from sklearn.datasets import fetch_20newsgroups\n",
      "\n",
      "# Download a subset of the newsgroup dataset\n",
      "newsgroups_train = fetch_20newsgroups(subset='train',categories=['sci.med'])\n",
      "newsgroups_test  = fetch_20newsgroups(subset='test' ,categories=['sci.med'])\n",
      "\n",
      "# Sample a sequence of T characters from the dataset\n",
      "# that the HMM can read (0=whitespace 1-26=A-Z).\n",
      "#\n",
      "# Example of execution:\n",
      "# O = sample(newsgroups_train.data)\n",
      "# O = sample(newsgroups_test.data)\n",
      "#\n",
      "def sample(data,T=50):\n",
      "    i = numpy.random.randint(len(data))\n",
      "    O = data[i].upper().replace('\\n',' ')\n",
      "    O = numpy.array([ord(s) for s in O])\n",
      "    O = numpy.maximum(O[(O>=65)*(O<90)+(O==32)]-64,0)\n",
      "    j = numpy.random.randint(len(O)-T)\n",
      "    return O[j:j+T]\n",
      "\n",
      "# Takes a sequence of integers between 0 and 26 (HMM representation)\n",
      "# and converts it back to a string of characters\n",
      "def tochar(O):\n",
      "    return \"\".join([\"%s\"%chr(o) for o in (O+32*(O==0)+64*(O>0.5))])"
     ],
     "language": "python",
     "metadata": {},
     "outputs": []
    },
    {
     "cell_type": "markdown",
     "metadata": {},
     "source": [
      "### Question 2a (15 P)\n",
      "\n",
      "In order to train the HMM, we use a stochastic optimization algorithm where the Baum-Welch procedure is applied to randomly drawn sequences of $T=50$ characters at each iteration. The HMM has 27 visible states (A-Z + whitespace) and 200 hidden states. Because the Baum-Welch procedure optimizes for the sequence taken as input, and no necessarily the full text, it can take fairly large steps in the parameter space, which is inadequate for stochastic optimization. We consider instead for the parameters $\\lambda = (A,B,\\Pi)$ the update rule $\\lambda^{new} = (1-\\gamma) \\lambda + \\gamma \\bar \\lambda$, where $\\bar \\lambda$ contains the candidate parameters obtained from Equations 40a-c. A reasonable value for $\\gamma$ is $0.1$.\n",
      "\n",
      "* *Create* a new class `HMMChar` that extends the class `HMM` provided in `hmm.py`.\n",
      "* *Implement* for this class a new method `HMMchar.learn(self)` that overrides the original methods, and implements the proposed update rule instead.\n",
      "* *Implement* the stochastic training procedure and run it.\n",
      "* *Monitor* $\\log p(O|\\lambda)$ on the test set at multiple iterations for sequences of same length as the one used for training. (Hint: for less noisy log-probability estimates, use several sequences or a moving average.)"
     ]
    },
    {
     "cell_type": "code",
     "collapsed": false,
     "input": [
      "import solutions\n",
      "\n",
      "hmmchar = solutions.HMMChar(200,27)\n",
      "trainsample = lambda: sample(newsgroups_train.data)\n",
      "testsample  = lambda: sample(newsgroups_test.data)\n",
      "\n",
      "solutions.question2a(hmmchar,trainsample,testsample)"
     ],
     "language": "python",
     "metadata": {},
     "outputs": []
    },
    {
     "cell_type": "markdown",
     "metadata": {},
     "source": [
      "### Question 2b (15 P)\n",
      "\n",
      "In order to visualize what the HMM has learned, we would like to generate random text from it. A well-trained HMM should generate character sequences that have some similarity with the text it has been trained on.\n",
      "\n",
      "* *Implement* a method `generate(self,T)` of the class `HMMChar` that takes as argument the length of the character sequence that has to be generated.\n",
      "* *Test* your method by generating a sequence of 250 characters and comparing it with original text and a purely random sequence.\n",
      "* *Discuss* how the generated sequences compare with written English and what are the advantages and limitations of the HMM for this problem."
     ]
    },
    {
     "cell_type": "code",
     "collapsed": false,
     "input": [
      "print(\"original:\\n\"+tochar(sample(newsgroups_test.data,T=250)))\n",
      "print(\"\\nlearned:\\n\"+tochar(hmmchar.generate(250)))\n",
      "print(\"\\nrandom:\\n\" +tochar(solutions.HMMChar(200,27).generate(250)))"
     ],
     "language": "python",
     "metadata": {},
     "outputs": []
    }
   ],
   "metadata": {}
  }
 ]
}